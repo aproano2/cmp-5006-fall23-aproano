{
 "cells": [
  {
   "cell_type": "markdown",
   "id": "c6c2f9c4",
   "metadata": {
    "slideshow": {
     "slide_type": "slide"
    }
   },
   "source": [
    "# Cybersecurity\n",
    "\n",
    "### CMP-5006\n",
    "\n",
    "### Alejandro Proano, PhD"
   ]
  },
  {
   "cell_type": "markdown",
   "id": "abde72c1",
   "metadata": {
    "slideshow": {
     "slide_type": "slide"
    }
   },
   "source": [
    "# Web Security"
   ]
  },
  {
   "cell_type": "markdown",
   "id": "44804df1",
   "metadata": {
    "slideshow": {
     "slide_type": "slide"
    }
   },
   "source": [
    "## The OWASP Top 10\n",
    "\n",
    "- The OWASP Top 10 is a list of the most critical web application security risks.\n",
    "- It serves as a guide for developers and security professionals to prioritize their efforts in securing web applications.\n",
    "- The 2017 version of the OWASP Top 10 includes:\n",
    "  1. Injection\n",
    "  2. Broken Authentication\n",
    "  3. Sensitive Data Exposure\n",
    "  4. XML External Entities (XXE)\n",
    "  5. Broken Access Control\n",
    "  6. Security Misconfigurations\n",
    "  7. Cross-Site Scripting (XSS)\n",
    "  8. Insecure Deserialization\n",
    "  9. Using Components with Known Vulnerabilities\n",
    "  10. Insufficient Logging and Monitoring"
   ]
  },
  {
   "cell_type": "markdown",
   "id": "5d181cc6",
   "metadata": {
    "slideshow": {
     "slide_type": "subslide"
    }
   },
   "source": [
    "### Injection \n",
    "\n",
    "- It is one of the most critical security risks to web applications. Injection attacks occur when an attacker sends malicious input to an application, which is then interpreted as code and executed by the application. This can lead to data theft, data loss, or even complete system compromise.\n",
    "\n",
    "The following are some of the most common types of injection attacks and their potential impact:\n",
    "\n",
    "**SQL Injection:** Attackers can use SQL injection to execute arbitrary SQL commands on a database, allowing them to read, modify, or delete sensitive data. The cost of SQL injection attacks can vary widely depending on the size of the organization and the amount of data that is compromised.\n",
    "\n",
    "**Command Injection:** Attackers can use command injection to execute arbitrary commands on a server, allowing them to take control of the system. The cost of command injection attacks can vary widely depending on the size of the organization and the amount of damage that is done. \n",
    "\n",
    "**LDAP Injection:** Attackers can use LDAP injection to execute arbitrary LDAP commands on a directory server, allowing them to read, modify, or delete sensitive data. The cost of LDAP injection attacks can vary widely depending on the size of the organization and the amount of data that is compromised."
   ]
  },
  {
   "cell_type": "markdown",
   "id": "15c117d0",
   "metadata": {
    "slideshow": {
     "slide_type": "subslide"
    }
   },
   "source": [
    "### Examples of Injection\n",
    "\n",
    "- **Equifax (2017):** A vulnerability in the company’s web application allowed hackers to access the personal information of over 143 million people.\n",
    "\n",
    "- **Yahoo! (2013-2014):** A vulnerability in the company’s web application allowed hackers to access the personal information of all 3 billion Yahoo! accounts.\n",
    "\n",
    "- **Heartland Payment Systems (2008):** A SQL injection attack was used to steal credit card data from the company’s payment processing system, resulting in the theft of over 130 million credit card numbers.\n",
    "\n",
    "- **Sony Pictures (2014):** A SQL injection attack was used to gain access to the company’s servers and steal confidential data, including unreleased films and personal information of employees."
   ]
  },
  {
   "cell_type": "markdown",
   "id": "9b8bf839",
   "metadata": {
    "slideshow": {
     "slide_type": "subslide"
    }
   },
   "source": [
    "### Cross-Site Scripting (XSS) \n",
    "\n",
    "- XSS attacks occur when an attacker uses a web application to send malicious code, generally in the form of a browser-side script, to a different end-user. The malicious script can access any cookies, session tokens, or other sensitive information retained by the browser and used with that site. These scripts can even rewrite the content of the HTML page 1.\n",
    "\n",
    "The following are some of the most common types of XSS attacks and their potential impact:\n",
    "\n",
    "**Reflected XSS Attacks:** Reflected attacks are those where the injected script is reflected off the web server, such as in an error message, search result, or any other response that includes some or all of the input sent to the server as part of the request.\n",
    "\n",
    "**Stored XSS Attacks:** Stored attacks are those where the injected script is permanently stored on the target server, such as in a comment field or message board. \n",
    "\n",
    "**DOM-Based XSS Attacks:** DOM-based attacks are those where the vulnerability exists in client-side code rather than server-side code.\n"
   ]
  },
  {
   "cell_type": "markdown",
   "id": "25a705b6",
   "metadata": {
    "slideshow": {
     "slide_type": "subslide"
    }
   },
   "source": [
    "### Examples of XSS attacks\n",
    "\n",
    "- **British Airways:** In 2018, British Airways was attacked by Magecart, a high-profile hacker group famous for credit card skimming attacks. The group exploited an XSS vulnerability in a JavaScript library called Feedify, which was used on the British Airway website. Attackers modified the script to send customer data to a malicious server, which used a domain name similar to British Airways. The fake server had an SSL certificate, so users believed they were purchasing from a secure server. They succeeded in performing credit card skimming on 380,000 booking transactions before the breach was discovered.\n",
    "\n",
    "- **Fortnite:** In 2019, the popular multiplayer game experienced an XSS vulnerability that over 200 million users. A retired, unsecured page went unnoticed by Fortnite developers. The page had an XSS vulnerability that allowed attackers to gain unauthorized access to the data of all Fornite users. Attackers could have used XSS, in combination with an insecure single sign on (SSO) vulnerability, to redirect users to a fake login page. This would allow them to steal virtual currency within the game, and record player conversations, as reconnaissance for future attacks. Check Point discovered the attack and notified Fortnite, but it is unknown if the vulnerability was exploited by attackers in the interim.\n",
    "\n",
    "- **eBay:** In late 2015 and early 2016, eBay had a severe XSS vulnerability. The website used a “url” parameter that redirected users to different pages on the platform, but the value of the parameter was not validated. This allowed attackers to inject malicious code into a page. The vulnerability enabled attackers to gain full access to eBay seller accounts, sell products at a discount, and steal payment details."
   ]
  },
  {
   "cell_type": "markdown",
   "id": "4c8a0601",
   "metadata": {
    "slideshow": {
     "slide_type": "subslide"
    }
   },
   "source": [
    "### Broken Access Control \n",
    "\n",
    "- Access control enforces policy such that users cannot act outside of their intended permissions. Failures typically lead to unauthorized information disclosure, modification, or destruction of all data or performing a business function outside the user’s limits 1.\n",
    "\n",
    "The following are some of the most common types of broken access control attacks and their potential impact:\n",
    "\n",
    "**Violation of the principle of least privilege or deny by default:** Access should only be granted for particular capabilities, roles, or users, but is available to anyone. The average incidence rate of broken access control is 3.81%, and has the most occurrences in the contributed dataset with over 318k.\n",
    "\n",
    "**Bypassing access control checks:** Attackers can modify the URL (parameter tampering or force browsing), internal application state, or the HTML page, or by using an attack tool modifying API requests. The cost of such attacks can vary widely depending on the size of the organization and the amount of damage that is done.\n",
    "\n",
    "**Permitting viewing or editing someone else’s account:** Attackers can provide the unique identifier of someone else’s account (insecure direct object references) and gain access to it. The cost of such attacks can vary widely depending on the size of the organization and the amount of data that is compromised 1."
   ]
  },
  {
   "cell_type": "markdown",
   "id": "35035dc7",
   "metadata": {
    "slideshow": {
     "slide_type": "subslide"
    }
   },
   "source": [
    "### Examples of broken access control\n",
    "\n",
    "- **Snapchat (January 2014):** A brute force attack was used to gain access to 4.6 million usernames and phone numbers.\n",
    "\n",
    "- **Facebook Business Pages (2015):** A malicious user was able to assign admin permissions to himself for a particular Facebook page.\n",
    "\n",
    "- **Equifax (2017):** A vulnerability in the company’s web application allowed hackers to access the personal information of over 143 million people.\n",
    "\n",
    "- **Uber (2016):** A vulnerability in the company’s code allowed hackers to access the personal information of over 57 million users and drivers."
   ]
  },
  {
   "cell_type": "markdown",
   "id": "5466920a",
   "metadata": {
    "slideshow": {
     "slide_type": "slide"
    }
   },
   "source": [
    "## Why learning about OWASP top 10?"
   ]
  },
  {
   "cell_type": "markdown",
   "id": "63403cd2",
   "metadata": {
    "slideshow": {
     "slide_type": "slide"
    }
   },
   "source": [
    "## Penetration (pen) testing \n",
    "\n",
    "- It is usually performed by a third party.\n",
    "- A simulated cyber attack against a computer system to check for exploitable vulnerabilities. \n",
    "- It is commonly used to augment a web application firewall (WAF) \n",
    "- Penetration testing can involve the attempted breaching of any number of application systems, such as application protocol interfaces (APIs), frontend/backend servers, to uncover vulnerabilities, such as unsanitized inputs that are susceptible to code injection attacks. \n",
    "- The insights provided by the penetration test can be used to fine-tune your WAF security policies and patch detected vulnerabilities."
   ]
  },
  {
   "cell_type": "markdown",
   "id": "f91a805d",
   "metadata": {
    "slideshow": {
     "slide_type": "subslide"
    }
   },
   "source": [
    "### Stages of pen testing:\n",
    "\n",
    "**1. Planning and reconnaissance:** This stage involves gathering information about the target system, such as its IP address, domain name, and other relevant details. This information is used to create a plan of attack and identify potential vulnerabilities.\n",
    "\n",
    "**2. Scanning:** In this stage, the tester uses various tools to scan the target system for vulnerabilities. This can include port scanning, vulnerability scanning, and other techniques to identify potential weaknesses.\n",
    "\n",
    "**3. Gaining Access:** Once vulnerabilities have been identified, the tester attempts to exploit them to gain access to the target system. This can involve using various techniques such as social engineering, password cracking, and other methods to gain access to the system.\n",
    "\n",
    "**4. Maintaining Access:** Once access has been gained, the tester attempts to maintain access to the system. This can involve installing backdoors, creating new user accounts, and other methods to ensure continued access to the system.\n",
    "\n",
    "**5. Analysis:** Finally, the tester analyzes the results of the penetration test to identify vulnerabilities and provide recommendations for improving the security of the target system."
   ]
  },
  {
   "cell_type": "markdown",
   "id": "afec701d",
   "metadata": {
    "slideshow": {
     "slide_type": "subslide"
    }
   },
   "source": [
    "### Ethical hackers \n",
    "\n",
    "- Security professionals who use their hacking skills to identify vulnerabilities in computer systems and networks. \n",
    "- Also known as white hat hackers. \n",
    "- Ethical hackers follow a strict code of conduct and adhere to a set of rules when performing penetration testing. Here are some of the rules that ethical hackers follow:\n",
    "\n",
    "    - **Permission:** Ethical hackers must obtain written permission from the owner of the system or network before conducting any penetration testing.\n",
    "\n",
    "    - **Scope:** The scope of the penetration testing must be clearly defined and agreed upon by both parties before the testing begins.\n",
    "\n",
    "    - **Confidentiality:** Ethical hackers must maintain the confidentiality of any information they obtain during the testing process.\n",
    "\n",
    "    - **Integrity:** Ethical hackers must not modify or damage any data or systems during the testing process.\n",
    "\n",
    "    - **Professionalism:** Ethical hackers must act professionally and ethically at all times during the testing process.\n",
    "\n",
    "    - **Reporting:** Ethical hackers must provide a detailed report of their findings to the owner of the system or network after the testing process is complete."
   ]
  },
  {
   "cell_type": "markdown",
   "id": "1e682b61",
   "metadata": {
    "slideshow": {
     "slide_type": "subslide"
    }
   },
   "source": [
    "### Red and blue teams\n",
    "\n",
    "- Red team and blue team are two groups of security professionals who work together to test and improve the security of a system.\n",
    "- Red team/blue team simulations play an important role in defending the organization against a wide range of cyberattacks from today’s sophisticated adversaries.\n",
    "- These exercises help organizations:\n",
    "    - Identify points of vulnerability as it relates to people, technologies and systems\n",
    "    - Determine areas of improvement in defensive incident response processes across every phase of the kill chain\n",
    "    - Build the organization’s first-hand experience about how to detect and contain a targeted attack\n",
    "    - Develop response and remediation activities to return the environment to a normal operating state\n"
   ]
  },
  {
   "cell_type": "markdown",
   "id": "c535e55f",
   "metadata": {
    "slideshow": {
     "slide_type": "subslide"
    }
   },
   "source": [
    "### Red team\n",
    "\n",
    "- The red team is responsible for simulating an attack on the system.\n",
    "- It is made up of offensive security experts who use their skills to identify vulnerabilities in the system and attempt to exploit them.\n",
    "- They use real-world adversary tradecraft to compromise the environment and gain access to sensitive data \n"
   ]
  },
  {
   "cell_type": "markdown",
   "id": "996d4570",
   "metadata": {
    "slideshow": {
     "slide_type": "subslide"
    }
   },
   "source": [
    "### Blue team\n",
    "\n",
    "- The blue team is responsible for defending the system against the attack.\n",
    "- It consists of incident responders who work within the security unit to identify, assess, and respond to the intrusion.\n",
    "- They defend against and respond to the red team attack."
   ]
  },
  {
   "cell_type": "markdown",
   "id": "56ff667b",
   "metadata": {
    "slideshow": {
     "slide_type": "subslide"
    }
   },
   "source": [
    "### How do I become part of these teams?\n",
    "\n",
    "There are several certifications available for ethical hackers that can help boost their career. Here are some of the most popular ones:\n",
    "\n",
    "**Certified Ethical Hacker (CEH):** This certification is offered by the International Council of E-Commerce Consultants (EC-Council) and is one of the most widely recognized certifications in the field of ethical hacking 12. The CEH certification covers a wide range of topics, including network security, cryptography, and penetration testing.\n",
    "\n",
    "**Offensive Security Certified Professional (OSCP):** This certification is offered by Offensive Security and is designed to test the practical skills of ethical hackers. The OSCP certification requires candidates to complete a 24-hour practical exam, during which they must demonstrate their ability to identify and exploit vulnerabilities in a real-world scenario.\n",
    "\n",
    "**CompTIA PenTest+:** This certification is offered by CompTIA and is designed to test the skills of ethical hackers in penetration testing and vulnerability management. The PenTest+ certification covers topics such as planning and scoping, information gathering and vulnerability identification, attacks and exploits, and reporting and communication.\n",
    "\n",
    "**GIAC Penetration Tester (GPEN):** This certification is offered by the Global Information Assurance Certification (GIAC) and is designed to test the skills of ethical hackers in penetration testing and vulnerability assessment. The GPEN certification covers topics such as network and web application penetration testing, wireless penetration testing, and exploit development.\n",
    "\n",
    "**Certified Information Systems Security Professional (CISSP):** This certification is offered by the International Information System Security Certification Consortium (ISC) and is designed to test the skills of security professionals in various domains, including security and risk management, asset security, security engineering, and more.\n",
    "\n",
    "**Certified Information Security Manager (CISM):** This certification is offered by the Information Systems Audit and Control Association (ISACA) and is designed to test the skills of security professionals in areas such as information security governance, risk management, and incident management."
   ]
  }
 ],
 "metadata": {
  "celltoolbar": "Slideshow",
  "kernelspec": {
   "display_name": "Python 3",
   "language": "python",
   "name": "python3"
  },
  "language_info": {
   "codemirror_mode": {
    "name": "ipython",
    "version": 3
   },
   "file_extension": ".py",
   "mimetype": "text/x-python",
   "name": "python",
   "nbconvert_exporter": "python",
   "pygments_lexer": "ipython3",
   "version": "3.8.8"
  }
 },
 "nbformat": 4,
 "nbformat_minor": 5
}
