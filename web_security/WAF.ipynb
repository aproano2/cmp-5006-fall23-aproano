{
 "cells": [
  {
   "cell_type": "markdown",
   "id": "c6c2f9c4",
   "metadata": {
    "slideshow": {
     "slide_type": "slide"
    }
   },
   "source": [
    "# Cybersecurity\n",
    "\n",
    "### CMP-5006\n",
    "\n",
    "### Alejandro Proano, PhD"
   ]
  },
  {
   "cell_type": "markdown",
   "id": "abde72c1",
   "metadata": {
    "slideshow": {
     "slide_type": "slide"
    }
   },
   "source": [
    "# Web Security"
   ]
  },
  {
   "cell_type": "markdown",
   "id": "44804df1",
   "metadata": {
    "slideshow": {
     "slide_type": "slide"
    }
   },
   "source": [
    "## Firewalls\n",
    "\n",
    "- A firewall is a network security system that monitors and controls incoming and outgoing network traffic based on predetermined security rules.\n",
    "\n",
    "- It establishes a barrier between a trusted network and an untrusted network, such as the Internet.\n",
    "\n",
    "- They filter the incoming and outgoing data on a network based on rules that allow or deny access.\n",
    "\n",
    "- Firewalls can be hardware, software, or a combination of both.\n"
   ]
  },
  {
   "cell_type": "markdown",
   "id": "5d181cc6",
   "metadata": {
    "slideshow": {
     "slide_type": "subslide"
    }
   },
   "source": [
    "### Hardware vs. Software \n",
    "\n",
    "A hardware firewall is a physical device that filters network traffic, while a software firewall is a program that runs on a computer or server and inspects data that goes in and out of the device.\n",
    "\n",
    "Here are some differences between hardware and software firewalls:\n",
    "\n",
    "**Cost:** A software firewall is relatively cheap when first purchased, but the subscription expense may end up being more costly than what you would have paid for a hardware solution.\n",
    "\n",
    "**Space:** If space is a concern, software may be a better choice because, as an application, it has no footprint.\n",
    "\n",
    "**Installation:** Many software firewalls only require a few clicks to be up and running, whereas hardware firewalls require attaching wires, connecting to power, and proper positioning.\n",
    "\n",
    "**Protection:** Hardware firewalls provide better protection against external threats and network attacks, while software firewalls provide better control over individual computer systems.\n",
    "\n",
    "Hardware firewalls can be configured with specific rules for all traffic and can ease the burden on other server resources . They sit directly behind the router and can be configured to analyze incoming traffic, filtering out specific threats as they come across the device. On the other hand, software firewalls have to be installed on every computer in the network and can drain crucial computing power and memory, affecting user experience and network security.\n"
   ]
  },
  {
   "cell_type": "markdown",
   "id": "15c117d0",
   "metadata": {
    "slideshow": {
     "slide_type": "subslide"
    }
   },
   "source": [
    "### How do we use firewalls to protect web applications?"
   ]
  },
  {
   "cell_type": "markdown",
   "id": "9b8bf839",
   "metadata": {
    "slideshow": {
     "slide_type": "subslide"
    }
   },
   "source": [
    "### Web application firewall (WAF)\n",
    "\n",
    "- A security tool that monitors, filters, and blocks HTTP traffic to and from a web service. \n",
    "\n",
    "- A WAF is a protocol layer 7 defense (in the OSI model)\n",
    "\n",
    "- It is designed to detect and protect against dangerous security flaws that are most common within web traffic.\n",
    "\n",
    "- WAFs are critical security defenses for websites, mobile applications, and APIs.\n",
    "\n",
    "- They can help protect web applications from OWASP Top 10 attacks.\n"
   ]
  }
 ],
 "metadata": {
  "celltoolbar": "Slideshow",
  "kernelspec": {
   "display_name": "Python 3",
   "language": "python",
   "name": "python3"
  },
  "language_info": {
   "codemirror_mode": {
    "name": "ipython",
    "version": 3
   },
   "file_extension": ".py",
   "mimetype": "text/x-python",
   "name": "python",
   "nbconvert_exporter": "python",
   "pygments_lexer": "ipython3",
   "version": "3.8.8"
  }
 },
 "nbformat": 4,
 "nbformat_minor": 5
}
