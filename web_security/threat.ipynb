{
 "cells": [
  {
   "cell_type": "markdown",
   "id": "c6c2f9c4",
   "metadata": {
    "slideshow": {
     "slide_type": "slide"
    }
   },
   "source": [
    "# Cybersecurity\n",
    "\n",
    "### CMP-5006\n",
    "\n",
    "### Alejandro Proano, PhD"
   ]
  },
  {
   "cell_type": "markdown",
   "id": "abde72c1",
   "metadata": {
    "slideshow": {
     "slide_type": "slide"
    }
   },
   "source": [
    "## Web security"
   ]
  },
  {
   "cell_type": "markdown",
   "id": "d5e91be0",
   "metadata": {
    "slideshow": {
     "slide_type": "slide"
    }
   },
   "source": [
    "## How do we protect our web applications?"
   ]
  },
  {
   "cell_type": "markdown",
   "id": "44804df1",
   "metadata": {
    "slideshow": {
     "slide_type": "slide"
    }
   },
   "source": [
    "## Threat modeling\n",
    "\n",
    "- Threat modeling is a structured process for identifying possible vulnerabilities in an application’s architecture in advance. \n",
    "- It is a family of activities for improving security by identifying threats and defining countermeasures to prevent or mitigate the effects of threats to the system.\n",
    "- The process involves diagramming an application, identifying security flaws, and mitigating those flaws.\n",
    "- By identifying vulnerabilities, helping with risk assessment, and suggesting corrective action, threat modeling helps improve cybersecurity and trust in key business systems."
   ]
  },
  {
   "cell_type": "markdown",
   "id": "5d181cc6",
   "metadata": {
    "slideshow": {
     "slide_type": "subslide"
    }
   },
   "source": [
    "### Types of threat modeling\n",
    "\n",
    "There are several types of threat modeling approaches, each with its own strengths and weaknesses. Some of the most popular ones are:\n",
    "\n",
    "**STRIDE:** This approach is widely used and was developed by Microsoft. It stands for Spoofing, Tampering, Repudiation, Information disclosure, Denial of service, and Elevation of privilege.\n",
    "\n",
    "**DREAD:** This approach is an acronym for Damage potential, Reproducibility, Exploitability, Affected users, and Discoverability. It is a risk assessment model that helps identify the most critical vulnerabilities.\n",
    "\n",
    "**PASTA:** This approach stands for Process for Attack Simulation and Threat Analysis. It is a seven-step process that includes identifying assets, defining the application, creating an attack tree, and more.\n",
    "\n",
    "**VAST:** This approach stands for Visual, Agile, and Simple Threat modeling. It is a lightweight approach that focuses on creating visual models of the system and identifying threats.\n",
    "\n",
    "**OCTAVE:** This approach stands for Operationally Critical Threat, Asset, and Vulnerability Evaluation. It is a risk-based approach that helps identify and prioritize security risks.\n",
    "\n",
    "**NIST:** This approach stands for National Institute of Standards and Technology. It is a framework that provides guidelines for identifying and mitigating security risks "
   ]
  },
  {
   "cell_type": "markdown",
   "id": "15c117d0",
   "metadata": {
    "slideshow": {
     "slide_type": "subslide"
    }
   },
   "source": [
    "### Types of threat modeling\n",
    "\n",
    "When choosing a threat modeling methodology, you should consider the following factors:\n",
    "\n",
    "1. Your industry (and associated threats and risks)\n",
    "2. Your security department’s size\n",
    "3. The make-up of your organization (and stakeholders)\n",
    "4. Available resources\n",
    "5. Your risk model and appetite\n",
    "6. Reason for threat modeling\n",
    "7. What’s involved (employees, devices, code deployment, third-parties)\n",
    "7. Available threat models (whether offered by a partner or existing vendor)"
   ]
  },
  {
   "cell_type": "markdown",
   "id": "9b8bf839",
   "metadata": {
    "slideshow": {
     "slide_type": "subslide"
    }
   },
   "source": [
    "### How do we do it?\n",
    "\n",
    "Getting started with threat modeling can be a daunting task, but it is an essential part of the software development lifecycle. Here are some steps to help you get started:\n",
    "\n",
    "1. **Understand the basics:** Threat modeling is a structured process for identifying possible vulnerabilities in an application’s architecture in advance. It involves diagramming an application, identifying security flaws, and mitigating those flaws.\n",
    "\n",
    "2. **Choose a methodology:** There are several types of threat modeling approaches, each with its own strengths and weaknesses. Some of the most popular ones are STRIDE, DREAD, PASTA, VAST, OCTAVE, and NIST 1. When choosing a methodology, you should consider factors such as your industry, security department’s size, available resources, and risk model and appetite.\n",
    "\n",
    "3. **Learn the tools:** There are several tools available to help you with threat modeling, such as Microsoft Threat Modeling Tool, IriusRisk, and ThreatModeler. You can choose the tool that best suits your needs and budget.\n",
    "\n",
    "4. **Start small:** Start with a small project and gradually work your way up to more complex ones. This will help you gain experience and confidence in threat modeling.\n",
    "\n"
   ]
  },
  {
   "cell_type": "markdown",
   "id": "25a705b6",
   "metadata": {
    "slideshow": {
     "slide_type": "subslide"
    }
   },
   "source": [
    "### Common mistakes\n",
    "\n",
    "Here are some common mistakes to avoid when threat modeling:\n",
    "\n",
    "1. **Thinking one size fits all:** It is a mistake to assume that a single threat modeling approach will work for all projects. Each project has its own unique requirements, and the threat modeling approach should be tailored to meet those requirements.\n",
    "\n",
    "2. **Starting with the wrong focus:** It is important to focus on the most critical assets and threats first. Starting with less important assets or threats can lead to wasted time and resources.\n",
    "\n",
    "3. **Neglecting the business side:** Threat modeling should be integrated into the business process and aligned with business objectives. Neglecting the business side can lead to a lack of support and resources.\n",
    "\n",
    "4. **Miscalculating the shelf life of results:** Threat modeling is an ongoing process, and the results should be updated regularly. Miscalculating the shelf life of results can lead to outdated and ineffective threat models.\n",
    "\n",
    "5. **Always thinking like the attacker:** While it is important to consider the attacker’s perspective, it is equally important to consider the user’s perspective. Focusing solely on the attacker’s perspective can lead to a lack of usability and functionality.\n",
    "\n",
    "6. **Thinking threat modeling is a one-time process:** Threat modeling should be an ongoing process that is integrated into the software development lifecycle. Thinking of it as a one-time process can lead to outdated and ineffective threat models.\n",
    "\n",
    "7. **Thinking only experts can do threat modeling:** Threat modeling can be done by anyone with a basic understanding of security concepts. Thinking that only experts can do threat modeling can lead to a lack of participation and support.\n",
    "\n",
    "8. **Threat modeling in late stages:** Threat modeling should be done early in the software development lifecycle. Threat modeling in late stages can lead to costly and time-consuming changes.\n",
    "\n",
    "9. **Focusing in the wrong place:** It is important to focus on the most critical assets and threats first. Focusing on less important assets or threats can lead to wasted time and resources."
   ]
  }
 ],
 "metadata": {
  "celltoolbar": "Slideshow",
  "kernelspec": {
   "display_name": "Python 3",
   "language": "python",
   "name": "python3"
  },
  "language_info": {
   "codemirror_mode": {
    "name": "ipython",
    "version": 3
   },
   "file_extension": ".py",
   "mimetype": "text/x-python",
   "name": "python",
   "nbconvert_exporter": "python",
   "pygments_lexer": "ipython3",
   "version": "3.8.8"
  }
 },
 "nbformat": 4,
 "nbformat_minor": 5
}
