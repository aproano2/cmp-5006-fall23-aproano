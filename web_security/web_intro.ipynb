{
 "cells": [
  {
   "cell_type": "markdown",
   "id": "c6c2f9c4",
   "metadata": {
    "slideshow": {
     "slide_type": "slide"
    }
   },
   "source": [
    "# Cybersecurity\n",
    "\n",
    "### CMP-5006\n",
    "\n",
    "### Alejandro Proano, PhD"
   ]
  },
  {
   "cell_type": "markdown",
   "id": "abde72c1",
   "metadata": {
    "slideshow": {
     "slide_type": "slide"
    }
   },
   "source": [
    "# Web Security"
   ]
  },
  {
   "cell_type": "markdown",
   "id": "0039688c",
   "metadata": {
    "slideshow": {
     "slide_type": "subslide"
    }
   },
   "source": [
    "## Introduction to Web Security\n",
    "\n",
    "- Web security refers to the protection of websites and web applications from various threats and vulnerabilities.\n",
    "- It involves implementing measures to prevent unauthorized access, data breaches, and other malicious activities.\n",
    "- Web security is crucial to ensure the confidentiality, integrity, and availability of web resources."
   ]
  },
  {
   "cell_type": "markdown",
   "id": "e20c9003",
   "metadata": {
    "slideshow": {
     "slide_type": "subslide"
    }
   },
   "source": [
    "## Motivation to Study Web Security\n",
    "\n",
    "- With the increasing reliance on the internet, web security has become a critical concern for individuals and organizations.\n",
    "- Cyberattacks, data breaches, and identity thefts are on the rise, making it essential to understand and mitigate web security risks.\n",
    "- By studying web security, you can protect your personal information, secure your online transactions, and contribute to a safer digital environment."
   ]
  },
  {
   "cell_type": "markdown",
   "id": "2684493c",
   "metadata": {
    "slideshow": {
     "slide_type": "slide"
    }
   },
   "source": [
    "## Common Web Application Security Risks\n",
    "\n",
    "- Web application security risks refer to vulnerabilities and weaknesses that can be exploited by attackers to compromise the security of web applications.\n",
    "- **Zero-day vulnerabilities:** These are vulnerabilities unknown to an application’s makers, and which thus do not have a fix available. We now see more than 20,000 every year. Attacks look to exploit these vulnerabilities quickly, and often follow up by seeking to evade protections put in place by security vendors.\n",
    "- **Denial-of-service (DoS) and distributed denial-of-service (DDoS) attacks:** Through a variety of vectors, attackers are able to overload a targeted server or its surrounding infrastructure with different types of attack traffic. When a server is no longer able to effectively process incoming requests, it begins to behave sluggishly and eventually deny service to incoming requests from legitimate users.\n",
    "- **Page scraping:** Attackers may also use bots to steal content from webpages on a large scale. They may use this content to gain a pricing advantage over a competitor, imitate the page owner for malicious purposes, or other reasons.\n",
    "- **API abuse:** APIs, or Application Programming Interfaces, are software that allow two applications to communicate with each other. Like any type of software, they may have vulnerabilities that allow attackers to send malicious code into one of the applications or intercept sensitive data as it moves from one application to another. This is an increasingly common attack type as API use increases. The OWASP API Top ten list succinctly summarized key API security risks organizations face today."
   ]
  },
  {
   "cell_type": "markdown",
   "id": "6f373e71",
   "metadata": {
    "slideshow": {
     "slide_type": "slide"
    }
   },
   "source": [
    "## What is OWASP?\n",
    "\n",
    "- OWASP (Open Web Application Security Project) is a non-profit organization dedicated to improving web application security.\n",
    "- It provides resources, tools, and guidelines to help developers, security professionals, and organizations enhance their web security practices.\n",
    "- OWASP promotes the importance of secure coding, vulnerability testing, and continuous security improvement.\n",
    "- https://owasp.org/"
   ]
  },
  {
   "cell_type": "markdown",
   "id": "44804df1",
   "metadata": {
    "slideshow": {
     "slide_type": "subslide"
    }
   },
   "source": [
    "## The OWASP Top 10\n",
    "\n",
    "- The OWASP Top 10 is a list of the most critical web application security risks.\n",
    "- It serves as a guide for developers and security professionals to prioritize their efforts in securing web applications.\n",
    "- The 2017 version of the OWASP Top 10 includes:\n",
    "  1. Injection\n",
    "  2. Broken Authentication\n",
    "  3. Sensitive Data Exposure\n",
    "  4. XML External Entities (XXE)\n",
    "  5. Broken Access Control\n",
    "  6. Security Misconfigurations\n",
    "  7. Cross-Site Scripting (XSS)\n",
    "  8. Insecure Deserialization\n",
    "  9. Using Components with Known Vulnerabilities\n",
    "  10. Insufficient Logging and Monitoring"
   ]
  },
  {
   "cell_type": "markdown",
   "id": "804d49d5",
   "metadata": {
    "slideshow": {
     "slide_type": "slide"
    }
   },
   "source": [
    "## Important Web Application Security Strategies\n",
    "\n",
    "- Implementing robust web application security strategies is crucial to protect against various threats.\n",
    "- Some important strategies include:\n",
    "  - Secure coding practices: Following secure coding guidelines and best practices to minimize vulnerabilities.\n",
    "  - Regular vulnerability assessments and penetration testing: Identifying and fixing security weaknesses through testing and analysis.\n",
    "  - Web application firewalls (WAF): Deploying WAFs to filter and block malicious traffic.\n",
    "  - Secure authentication and authorization mechanisms: Implementing strong authentication and authorization controls to prevent unauthorized access.\n",
    "  - Regular security updates and patches: Keeping web applications and underlying software up to date to address known vulnerabilities.\n",
    "  - Security monitoring and incident response: Monitoring web applications for suspicious activities and having a plan to respond to security incidents."
   ]
  },
  {
   "cell_type": "markdown",
   "id": "200ea9cf",
   "metadata": {
    "slideshow": {
     "slide_type": "slide"
    }
   },
   "source": [
    "## DAMN VULNERABLE WEB APPLICATION\n",
    "\n",
    "- Damn Vulnerable Web Application (DVWA) is a PHP/MySQL web application that is damn vulnerable. Its main goal is to be an aid for security professionals to test their skills and tools in a legal environment, help web developers better understand the processes of securing web applications and to aid both students & teachers to learn about web application security in a controlled class room environment.\n",
    "\n",
    "- https://github.com/digininja/DVWA\n",
    "\n",
    "- https://hub.docker.com/r/vulnerables/web-dvwa"
   ]
  }
 ],
 "metadata": {
  "celltoolbar": "Slideshow",
  "kernelspec": {
   "display_name": "Python 3",
   "language": "python",
   "name": "python3"
  },
  "language_info": {
   "codemirror_mode": {
    "name": "ipython",
    "version": 3
   },
   "file_extension": ".py",
   "mimetype": "text/x-python",
   "name": "python",
   "nbconvert_exporter": "python",
   "pygments_lexer": "ipython3",
   "version": "3.8.8"
  }
 },
 "nbformat": 4,
 "nbformat_minor": 5
}
